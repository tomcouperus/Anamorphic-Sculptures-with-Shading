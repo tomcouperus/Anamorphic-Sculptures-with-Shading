{
 "cells": [
  {
   "cell_type": "code",
   "execution_count": 3,
   "metadata": {},
   "outputs": [],
   "source": [
    "import numpy as np\n",
    "import matplotlib.pyplot as plt\n",
    "import json\n",
    "import math"
   ]
  },
  {
   "cell_type": "code",
   "execution_count": null,
   "metadata": {},
   "outputs": [],
   "source": [
    "def graph_json_iterative(filename):\n",
    "    with open(filename) as json_file:\n",
    "        json_data = json.load(json_file)\n",
    "        name = json_data['ObjectName']\n",
    "        seed = json_data['Seed']\n",
    "        vertex_count = json_data['VertexCount']\n",
    "        sampling_rate = json_data['SamplingRate']\n",
    "        deformed_deviation = json_data['DeformedAngularDeviation']\n",
    "        deformation_method = json_data['DeformationMethod']\n",
    "        vertex_selection_method = json_data['VertexSelectionMethod']\n",
    "        offsets = np.array(json_data['Offsets'], dtype='float')\n",
    "        vertices = np.array(json_data['Vertices'], dtype='int')\n",
    "        accepted_iterations = np.array(json_data['AcceptedIterations'], dtype='bool')\n",
    "        ideal_normal_angles_from_ray = np.array(json_data['IdealNormalAnglesFromRay'], dtype='float')\n",
    "        iterations = vertices.size\n",
    "        deviations = np.array(json_data['Deviations'], dtype='float').reshape((iterations, offsets.size))\n",
    "        current_deviations = np.array(json_data['CurrentDeviations'], dtype=float)\n",
    "\n",
    "        min_deviation = np.min(deviations[-1])\n",
    "        max_deviation = np.max(deviations)\n",
    "        min_offset = np.round(np.min(offsets), 2)\n",
    "        max_offset = np.round(np.max(offsets), 2)\n",
    "        effective_iterations = np.sum(accepted_iterations)\n",
    "\n",
    "        deviation_diff_percent = (min_deviation-deformed_deviation)/deformed_deviation * 100\n",
    "\n",
    "        xplots = 10\n",
    "        yplots = math.ceil(iterations/xplots)\n",
    "        # Limit the amount of y plots into a nice square\n",
    "        yplots = min(yplots, xplots)\n",
    "        figsize_multiplier = 4\n",
    "        fig, axs = plt.subplots(yplots, xplots, figsize=(xplots*figsize_multiplier, yplots*figsize_multiplier))\n",
    "\n",
    "        info = f\"Plot of total angular deviation (0; {np.round(max_deviation,2)}) per offset ({min_offset}; {max_offset}), sampled every {sampling_rate}\\n\"\n",
    "        info += f\"Object: {name}\\n\"\n",
    "        info += f\"Vertices: {vertex_count} (if more vertices then expected, that is because of UV mapping. Vertices that only differ in UV coordinates are still treated at the same time)\\n\"\n",
    "        info += f\"Deformation method: {deformation_method}\"\n",
    "        if (deformation_method == \"Random\"):\n",
    "            info += f\" (seed {seed})\"\n",
    "        info += f\"\\n\"\n",
    "        info += f\"Vertex selection method: {vertex_selection_method}\\n\"\n",
    "        info += f\"First {min(xplots*yplots, iterations)}/{iterations} iterations plotted ltr-ttb\\n\"\n",
    "        info += f\"{effective_iterations} iterations of total amount ({np.round(effective_iterations/iterations*100, 2)}%) reduced the minimum\\n\"\n",
    "        info += f\"Total angular deviation reduced from {np.round(deformed_deviation, 2)} to {np.round(min_deviation, 2)} ({np.round(deviation_diff_percent, 2)}%)\\n\"\n",
    "        info += f\"\\nLEGEND\\n\"\n",
    "        info += f\"-------------\\n\"\n",
    "        info += f\"v: Current iteration's vertex\\n\"\n",
    "        info += f\"ndfr: ideal normal's degrees from ray -- used to see orthogonality of current iteration's vertex normal relative to viewpoint\\n\"\n",
    "        info += f\"cd: Current deviation\\n\"\n",
    "        info += f\"md: Minimum deviation of iteration\\n\"\n",
    "        info += f\"off: offset that corresponds to the (discrete) minimum\\n\"\n",
    "        info += f\"\\nblue/red: plot of total angular deviation at each offset, if the iteration decreased the minimum (blue) or not (red)\\n\"\n",
    "        info += f\"pink: quadratic approximation of the original data\\n\"\n",
    "        info += f\"black dashed: current total angular deviation\\n\"\n",
    "        print(info)\n",
    "\n",
    "        for y in range(yplots):\n",
    "            for x in range(xplots):\n",
    "                iter = y*xplots + x\n",
    "                if iter < iterations:\n",
    "                    # Plot the discrete data\n",
    "                    color = 'red' if accepted_iterations[iter] else 'blue'\n",
    "                    axs[y,x].plot(offsets, deviations[iter], c=color)\n",
    "\n",
    "                    # Plot the deviation it should be lower than\n",
    "                    axs[y,x].axhline(y=current_deviations[iter], color='black', linestyle=\"--\", linewidth=0.5)\n",
    "\n",
    "                    # Plot the quadratically fitted approximation of the data\n",
    "                    min_dev_offset_index = np.argmin(deviations[iter])\n",
    "\n",
    "                    model = np.poly1d(np.polyfit(offsets, deviations[iter], 2))\n",
    "                    model_deviations = model(offsets)\n",
    "                    model_min_dev_index = np.argmin(model_deviations)\n",
    "                    axs[y,x].plot(offsets, model_deviations, color='magenta')\n",
    "\n",
    "                    # Make the title\n",
    "                    vertex = vertices[iter]\n",
    "                    title = f\"v: {vertex}\"\n",
    "                    title += f\"\\nndfr: {np.round(ideal_normal_angles_from_ray[vertex],1)}\"\n",
    "                    title += f\"\\ncd: {np.round(current_deviations[iter], 3)}\"\n",
    "                    title += f\"\\noff: {np.round(offsets[min_dev_offset_index], 3)}\"\n",
    "                    title += f\"\\nmd: {np.round(deviations[iter, min_dev_offset_index], 3)}\"\n",
    "                    title += f\"\\naoff: {np.round(offsets[model_min_dev_index], 3)}\"\n",
    "                    title += f\"\\namd: {np.round(model_deviations[model_min_dev_index], 3)}\"\n",
    "                    axs[y,x].set_title(title)\n",
    "\n",
    "                # Set the axes invisible\n",
    "                # axs[y,x].set_ylim(0, max_deviation)\n",
    "                axs[y,x].set_xticklabels([])\n",
    "                axs[y,x].set_yticklabels([])\n",
    "        \n",
    "        fig.tight_layout()\n",
    "        fig.show()"
   ]
  },
  {
   "cell_type": "code",
   "execution_count": null,
   "metadata": {},
   "outputs": [],
   "source": [
    "def graph_offset_histogram_iterative(filename):\n",
    "    with open(filename) as json_file:\n",
    "        json_data = json.load(json_file)\n",
    "        name = json_data['ObjectName']\n",
    "        seed = json_data['Seed']\n",
    "        vertex_count = json_data['VertexCount']\n",
    "        sampling_rate = json_data['SamplingRate']\n",
    "        deformed_deviation = json_data['DeformedAngularDeviation']\n",
    "        deformation_method = json_data['DeformationMethod']\n",
    "        vertex_selection_method = json_data['VertexSelectionMethod']\n",
    "        offsets = np.array(json_data['Offsets'], dtype='float')\n",
    "        vertices = np.array(json_data['Vertices'], dtype='int')\n",
    "        skipped_iterations = np.array(json_data['SkippedIterations'], dtype='bool')\n",
    "        ideal_normal_angles_from_ray = np.array(json_data['IdealNormalAnglesFromRay'], dtype='float')\n",
    "        iterations = vertices.size\n",
    "        deviations = np.array(json_data['Deviations'], dtype='float').reshape((iterations, offsets.size))\n",
    "        current_deviations = np.array(json_data['CurrentDeviations'], dtype=float)\n",
    "\n",
    "        applied_offsets = []\n",
    "        # Gather all offsets of iterations that reduced the minimum\n",
    "        for iter in range(iterations):\n",
    "            if skipped_iterations[iter]:\n",
    "                continue\n",
    "            min_dev_index = np.argmin(deviations[iter])\n",
    "            min_offset = offsets[min_dev_index]\n",
    "            applied_offsets.append(min_offset)\n",
    "        \n",
    "        fig = plt.figure()\n",
    "        plt.hist(applied_offsets)\n",
    "        fig.show()"
   ]
  },
  {
   "cell_type": "code",
   "execution_count": null,
   "metadata": {},
   "outputs": [],
   "source": [
    "graph_json_iterative(\"Cube-m10.json\")"
   ]
  },
  {
   "cell_type": "code",
   "execution_count": null,
   "metadata": {},
   "outputs": [],
   "source": [
    "graph_offset_histogram_iterative(\"Cube-m10.json\")"
   ]
  },
  {
   "cell_type": "code",
   "execution_count": null,
   "metadata": {},
   "outputs": [],
   "source": [
    "graph_json_iterative(\"Tetrahedron-10.json\")"
   ]
  },
  {
   "cell_type": "code",
   "execution_count": null,
   "metadata": {},
   "outputs": [],
   "source": [
    "graph_offset_histogram_iterative(\"Tetrahedron-10.json\")"
   ]
  },
  {
   "cell_type": "code",
   "execution_count": null,
   "metadata": {},
   "outputs": [],
   "source": [
    "graph_json_iterative(\"Tetrahedron-5.json\")"
   ]
  },
  {
   "cell_type": "code",
   "execution_count": null,
   "metadata": {},
   "outputs": [],
   "source": [
    "graph_offset_histogram_iterative(\"Tetrahedron-5.json\")"
   ]
  },
  {
   "cell_type": "code",
   "execution_count": null,
   "metadata": {},
   "outputs": [],
   "source": [
    "graph_json_iterative(\"Tetrahedron-1.json\")"
   ]
  },
  {
   "cell_type": "code",
   "execution_count": null,
   "metadata": {},
   "outputs": [],
   "source": [
    "graph_offset_histogram_iterative(\"Tetrahedron-1.json\")"
   ]
  },
  {
   "cell_type": "code",
   "execution_count": null,
   "metadata": {},
   "outputs": [],
   "source": [
    "graph_json_iterative(\"Cube-10.json\")"
   ]
  },
  {
   "cell_type": "code",
   "execution_count": null,
   "metadata": {},
   "outputs": [],
   "source": [
    "graph_offset_histogram_iterative(\"Cube-10.json\")"
   ]
  },
  {
   "cell_type": "code",
   "execution_count": null,
   "metadata": {},
   "outputs": [],
   "source": [
    "graph_json_iterative(\"Cube-5.json\")"
   ]
  },
  {
   "cell_type": "code",
   "execution_count": null,
   "metadata": {},
   "outputs": [],
   "source": [
    "graph_offset_histogram_iterative(\"Cube-5.json\")"
   ]
  },
  {
   "cell_type": "code",
   "execution_count": null,
   "metadata": {},
   "outputs": [],
   "source": [
    "graph_json_iterative(\"Cube-1.json\")"
   ]
  },
  {
   "cell_type": "code",
   "execution_count": null,
   "metadata": {},
   "outputs": [],
   "source": [
    "graph_offset_histogram_iterative(\"Cube-1.json\")"
   ]
  },
  {
   "cell_type": "code",
   "execution_count": null,
   "metadata": {},
   "outputs": [],
   "source": [
    "graph_json_iterative(\"Icosahedron-10.json\")"
   ]
  },
  {
   "cell_type": "code",
   "execution_count": null,
   "metadata": {},
   "outputs": [],
   "source": [
    "graph_offset_histogram_iterative(\"Icosahedron-10.json\")"
   ]
  },
  {
   "cell_type": "code",
   "execution_count": null,
   "metadata": {},
   "outputs": [],
   "source": [
    "graph_json_iterative(\"Icosahedron-5.json\")"
   ]
  },
  {
   "cell_type": "code",
   "execution_count": null,
   "metadata": {},
   "outputs": [],
   "source": [
    "graph_offset_histogram_iterative(\"Icosahedron-5.json\")"
   ]
  },
  {
   "cell_type": "code",
   "execution_count": null,
   "metadata": {},
   "outputs": [],
   "source": [
    "graph_json_iterative(\"Icosahedron-1.json\")"
   ]
  },
  {
   "cell_type": "code",
   "execution_count": null,
   "metadata": {},
   "outputs": [],
   "source": [
    "graph_offset_histogram_iterative(\"Icosahedron-1.json\")"
   ]
  },
  {
   "cell_type": "code",
   "execution_count": null,
   "metadata": {},
   "outputs": [],
   "source": [
    "graph_json_iterative(\"High Vertex Plane_(-0.10_0.0100_0.10).json\")"
   ]
  },
  {
   "cell_type": "code",
   "execution_count": null,
   "metadata": {},
   "outputs": [],
   "source": [
    "graph_offset_histogram_iterative(\"High Vertex Plane_(-0.10_0.0100_0.10).json\")"
   ]
  },
  {
   "cell_type": "code",
   "execution_count": 13,
   "metadata": {},
   "outputs": [],
   "source": [
    "def graph_json_annealing(filename):\n",
    "    with open(filename) as json_file:\n",
    "        json_data = json.load(json_file)\n",
    "        name = json_data['ObjectName']\n",
    "        seed = json_data['Seed']\n",
    "        vertex_count = json_data['VertexCount']\n",
    "        sampling_rate = json_data['SamplingRate']\n",
    "        deformed_deviation = json_data['DeformedAngularDeviation']\n",
    "        deformation_method = json_data['DeformationMethod']\n",
    "        vertex_selection_method = json_data['VertexSelectionMethod']\n",
    "        offsets = np.array(json_data['Offsets'], dtype='float')\n",
    "        vertices = np.array(json_data['Vertices'], dtype='int')\n",
    "        accepted_iterations = np.array(json_data['AcceptedIterations'], dtype='bool')\n",
    "        ideal_normal_angles_from_ray = np.array(json_data['IdealNormalAnglesFromRay'], dtype='float')\n",
    "        iterations = vertices.size\n",
    "        deviations = np.array(json_data['Deviations'], dtype='float')\n",
    "        current_deviations = np.array(json_data['CurrentDeviations'], dtype=float)\n",
    "\n",
    "        fig = plt.figure()\n",
    "        plt.plot(range(iterations), deviations)\n",
    "\n",
    "        # Set the axes invisible\n",
    "        # plt.xticks([], []\n",
    "        # plt.yticks([], [])\n",
    "            \n",
    "        fig.tight_layout()\n",
    "        fig.show()"
   ]
  },
  {
   "cell_type": "code",
   "execution_count": 17,
   "metadata": {},
   "outputs": [
    {
     "name": "stderr",
     "output_type": "stream",
     "text": [
      "/var/folders/ht/fjyngybj4s19bb50tv72p70h0000gn/T/ipykernel_8279/3730274013.py:27: UserWarning: FigureCanvasAgg is non-interactive, and thus cannot be shown\n",
      "  fig.show()\n"
     ]
    },
    {
     "data": {
      "image/png": "[encoded data removed]",
      "text/plain": [
       "<Figure size 640x480 with 1 Axes>"
      ]
     },
     "metadata": {},
     "output_type": "display_data"
    }
   ],
   "source": [
    "graph_json_annealing(\"High Vertex Plane_Annealing_(0.00_0.010_0.10).json\")"
   ]
  }
 ],
 "metadata": {
  "kernelspec": {
   "display_name": ".venv",
   "language": "python",
   "name": "python3"
  },
  "language_info": {
   "codemirror_mode": {
    "name": "ipython",
    "version": 3
   },
   "file_extension": ".py",
   "mimetype": "text/x-python",
   "name": "python",
   "nbconvert_exporter": "python",
   "pygments_lexer": "ipython3",
   "version": "3.12.3"
  }
 },
 "nbformat": 4,
 "nbformat_minor": 2
}
