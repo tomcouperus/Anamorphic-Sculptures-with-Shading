{
 "cells": [
  {
   "cell_type": "code",
   "execution_count": 28,
   "metadata": {},
   "outputs": [],
   "source": [
    "import numpy as np\n",
    "import matplotlib.pyplot as plt\n",
    "import json\n",
    "import math"
   ]
  },
  {
   "cell_type": "code",
   "execution_count": 29,
   "metadata": {},
   "outputs": [],
   "source": [
    "DEFORMATION_METHODS = [\"Random\", \"Mirror\"]\n",
    "OPTIMIZER_METHODS = [\"Iterative\", \"Annealing\"]\n",
    "SMOOTHING_METHODS = [\"Laplacian\"]"
   ]
  },
  {
   "cell_type": "code",
   "execution_count": 30,
   "metadata": {},
   "outputs": [],
   "source": [
    "def graph_json_annealing(filename):\n",
    "    with open(filename) as json_file:\n",
    "        json_data = json.load(json_file)\n",
    "        name = json_data['ObjectName']\n",
    "        seed = json_data['Seed']\n",
    "        vertex_count = json_data['VertexCount']\n",
    "        sampling_rate = json_data['SamplingRate']\n",
    "        deformed_deviation = json_data['DeformedAngularDeviation']\n",
    "        deformation_method = DEFORMATION_METHODS[json_data['DeformationMethod']]\n",
    "        optimizer_method = OPTIMIZER_METHODS[json_data['OptimizerMethod']]\n",
    "        smoothened = json_data['Smoothened']\n",
    "        smoothing_method = SMOOTHING_METHODS[json_data['SmoothingMethod']] if smoothened else \"None\"\n",
    "        vertex_selection_method = json_data['VertexSelectionMethod']\n",
    "        offsets = np.array(json_data['Offsets'], dtype='float')\n",
    "        chosen_vertices = np.array(json_data['ChosenVertices'], dtype='int')\n",
    "        accepted_iterations = np.array(json_data['AcceptedIterations'], dtype='bool')\n",
    "        ideal_normal_angles_from_ray = np.array(json_data['IdealNormalAnglesFromRay'], dtype='float')\n",
    "        iterations = chosen_vertices.size\n",
    "        optimized_deviations = np.array(json_data['OptimizedDeviations'], dtype='float')\n",
    "        current_deviations = np.array(json_data['CurrentDeviations'], dtype=float)\n",
    "        smooth_angular_deviation = json_data['SmoothenedAngularDeviation']\n",
    "        time_ms = json_data['TimeMilliseconds']\n",
    "        temps = np.array(json_data['Temperatures'], dtype=float)\n",
    "\n",
    "        final_deviation = optimized_deviations[-1]\n",
    "        deviation_diff_percent = (final_deviation - optimized_deviations[0]) / optimized_deviations[0] * 100\n",
    "        effective_iterations = np.sum(accepted_iterations)\n",
    "\n",
    "        info = f\"Plot of total angular deviation for {iterations} iterations\\n\"\n",
    "        info += f\"Object: {name}\\n\"\n",
    "        info += f\"Vertices: {vertex_count} (if more vertices then expected, that is because of UV mapping. Vertices that only differ in UV coordinates are still treated at the same time)\\n\"\n",
    "        if (deformation_method == \"Random\" or vertex_selection_method == \"Random\"):\n",
    "            info += f\"Seed {seed}\\n\"\n",
    "        info += f\"Deformation method: {deformation_method}\\n\"\n",
    "        info += f\"Optimizer method: {optimizer_method}\\n\"\n",
    "        info += f\"Vertex selection method: {vertex_selection_method}\\n\"\n",
    "        info += f\"Smoothing: {smoothing_method}\\n\"\n",
    "        info += f\"{effective_iterations} iterations of total amount ({np.round(effective_iterations/iterations*100, 2)}%) reduced the minimum\\n\"\n",
    "        info += f\"Time: {time_ms} ms\\n\"\n",
    "        info += f\"Total angular deviation reduced from {np.round(deformed_deviation, 2)} to {np.round(final_deviation, 2)} ({np.round(deviation_diff_percent, 2)}%)\\n\"\n",
    "        print(info)\n",
    "\n",
    "        fig= plt.figure()\n",
    "        lnsOpt = plt.plot(range(iterations), current_deviations, label='Optimized TADoN')\n",
    "        if (smoothened):\n",
    "            lnsSm = plt.plot([0, iterations-1], [smooth_angular_deviation, smooth_angular_deviation], label=\"Smoothened TADoN\")\n",
    "\n",
    "        plt.xlabel(\"Iterations\")\n",
    "        plt.ylabel(\"TADoN (degrees)\")\n",
    "\n",
    "        ax2 = plt.twinx()\n",
    "        lnsTemp = ax2.plot(range(iterations), temps, color='red', label='Temperature')\n",
    "        ax2.set_ylabel(\"Temperature\")\n",
    "        \n",
    "        lns = lnsOpt\n",
    "        if (smoothened):\n",
    "            lns += lnsSm\n",
    "        lns += lnsTemp\n",
    "        labels = [l.get_label() for l in lns]\n",
    "        plt.legend(lns, labels)\n",
    "            \n",
    "        fig.tight_layout()\n",
    "        fig.show()"
   ]
  }
 ],
 "metadata": {
  "kernelspec": {
   "display_name": ".venv",
   "language": "python",
   "name": "python3"
  },
  "language_info": {
   "codemirror_mode": {
    "name": "ipython",
    "version": 3
   },
   "file_extension": ".py",
   "mimetype": "text/x-python",
   "name": "python",
   "nbconvert_exporter": "python",
   "pygments_lexer": "ipython3",
   "version": "3.12.3"
  }
 },
 "nbformat": 4,
 "nbformat_minor": 2
}
