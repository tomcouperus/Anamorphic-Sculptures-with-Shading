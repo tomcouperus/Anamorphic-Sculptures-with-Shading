{
 "cells": [
  {
   "cell_type": "code",
   "execution_count": null,
   "metadata": {},
   "outputs": [],
   "source": [
    "import numpy as np\n",
    "import matplotlib.pyplot as plt\n",
    "import json\n",
    "import math"
   ]
  },
  {
   "cell_type": "code",
   "execution_count": null,
   "metadata": {},
   "outputs": [],
   "source": [
    "def graph_json(filename):\n",
    "    with open(filename) as json_file:\n",
    "        json_data = json.load(json_file)\n",
    "        name = json_data['ObjectName']\n",
    "        seed = json_data['Seed']\n",
    "        deformed_deviation = json_data['DeformedAngularDeviation']\n",
    "        deformation_method = json_data['DeformationMethod']\n",
    "        offsets = np.array(json_data['Offsets'], dtype='float')\n",
    "        vertices = np.array(json_data['Vertices'], dtype='int')\n",
    "        skipped_iterations = np.array(json_data['SkippedIterations'], dtype='bool')\n",
    "        ideal_normal_angles_from_ray = np.array(json_data['IdealNormalAnglesFromRay'], dtype='float')\n",
    "        iterations = vertices.size\n",
    "        deviations = np.array(json_data['Deviations'], dtype='float').reshape((iterations, offsets.size))\n",
    "\n",
    "        min_deviation = np.min(deviations[-1])\n",
    "        max_deviation = np.max(deviations)\n",
    "        min_offset = np.round(np.min(offsets), 2)\n",
    "        max_offset = np.round(np.max(offsets), 2)\n",
    "        effective_iterations = iterations - np.sum(skipped_iterations)\n",
    "\n",
    "        deviation_diff_percent = (min_deviation-deformed_deviation)/deformed_deviation * 100\n",
    "\n",
    "        info = f\"{name} total angular deviation (0; {np.round(max_deviation,2)}) per offset ({min_offset}; {max_offset})\"\n",
    "        info += f\"\\n {iterations} iterations plotted ltr-ttb. {effective_iterations} iterations ({np.round(effective_iterations/iterations*100, 2)}%) reduced the minimum\"\n",
    "        info += f\"\\n Total angular deviation reduced from {np.round(deformed_deviation, 2)} to {np.round(min_deviation, 2)} ({np.round(deviation_diff_percent, 2)}%)\"\n",
    "        info += f\"\\n Deformation method: {deformation_method}\"\n",
    "        if (deformation_method == \"Random\"):\n",
    "            info += f\" (seed {seed})\"\n",
    "        info += \"Legend\"\n",
    "        info += \"-------------\"\n",
    "        info += \"ndfr: ideal normal's degrees from ray -- used to see orthogonality to viewpoint\"\n",
    "        print(info)\n",
    "\n",
    "        xplots = 10\n",
    "        yplots = math.ceil(iterations/xplots)\n",
    "        fig, axs = plt.subplots(yplots, xplots, figsize=(12, yplots*1.5))\n",
    "\n",
    "        for y in range(yplots):\n",
    "            for x in range(xplots):\n",
    "                iter = y*xplots + x\n",
    "                if iter < iterations:\n",
    "                    color = 'red' if skipped_iterations[iter] else 'blue'\n",
    "                    axs[y,x].plot(offsets, deviations[iter], c=color)\n",
    "                    vertex = vertices[iter]\n",
    "                    title = f\"v: {vertex}\"\n",
    "                    title += f\"\\nndfr: {np.round(ideal_normal_angles_from_ray[vertex],1)}\"\n",
    "                    axs[y,x].set_title(title)\n",
    "\n",
    "                axs[y,x].set_ylim(0, max_deviation)\n",
    "                axs[y,x].set_xticklabels([])\n",
    "                axs[y,x].set_yticklabels([])\n",
    "        \n",
    "        fig.tight_layout()\n",
    "        fig.show()"
   ]
  },
  {
   "cell_type": "code",
   "execution_count": null,
   "metadata": {},
   "outputs": [],
   "source": [
    "graph_json(\"Tetrahedron.json\")"
   ]
  },
  {
   "cell_type": "code",
   "execution_count": null,
   "metadata": {},
   "outputs": [],
   "source": [
    "graph_json(\"Cube.json\")"
   ]
  },
  {
   "cell_type": "code",
   "execution_count": null,
   "metadata": {},
   "outputs": [],
   "source": [
    "graph_json(\"Icosahedron.json\")"
   ]
  }
 ],
 "metadata": {
  "kernelspec": {
   "display_name": ".venv",
   "language": "python",
   "name": "python3"
  },
  "language_info": {
   "codemirror_mode": {
    "name": "ipython",
    "version": 3
   },
   "file_extension": ".py",
   "mimetype": "text/x-python",
   "name": "python",
   "nbconvert_exporter": "python",
   "pygments_lexer": "ipython3",
   "version": "3.12.3"
  }
 },
 "nbformat": 4,
 "nbformat_minor": 2
}
